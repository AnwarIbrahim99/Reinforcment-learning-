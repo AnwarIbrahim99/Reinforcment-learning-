{
  "nbformat": 4,
  "nbformat_minor": 0,
  "metadata": {
    "colab": {
      "name": "pong_setting up the env.ipynb",
      "provenance": [],
      "authorship_tag": "ABX9TyM49C0m5Hk6tix040icieEW",
      "include_colab_link": true
    },
    "kernelspec": {
      "name": "python3",
      "display_name": "Python 3"
    },
    "language_info": {
      "name": "python"
    },
    "accelerator": "GPU"
  },
  "cells": [
    {
      "cell_type": "markdown",
      "metadata": {
        "id": "view-in-github",
        "colab_type": "text"
      },
      "source": [
        "<a href=\"https://colab.research.google.com/github/AnwarIbrahim99/Reinforcment-learning-/blob/main/pong_setting_up_the_env.ipynb\" target=\"_parent\"><img src=\"https://colab.research.google.com/assets/colab-badge.svg\" alt=\"Open In Colab\"/></a>"
      ]
    },
    {
      "cell_type": "markdown",
      "source": [
        "ROM is missing for pong, see https://github.com/openai/atari-py#roms for instructions\n"
      ],
      "metadata": {
        "id": "KOK9OJTcLK7P"
      }
    },
    {
      "cell_type": "code",
      "source": [
        "pip install -U gym"
      ],
      "metadata": {
        "colab": {
          "base_uri": "https://localhost:8080/"
        },
        "id": "_v7MQQGMLjEZ",
        "outputId": "10df83e8-ba82-4e7a-a0f4-accdd05b2387"
      },
      "execution_count": 1,
      "outputs": [
        {
          "output_type": "stream",
          "name": "stdout",
          "text": [
            "Requirement already satisfied: gym in /usr/local/lib/python3.7/dist-packages (0.17.3)\n",
            "Collecting gym\n",
            "  Downloading gym-0.23.1.tar.gz (626 kB)\n",
            "\u001b[K     |████████████████████████████████| 626 kB 4.9 MB/s \n",
            "\u001b[?25h  Installing build dependencies ... \u001b[?25l\u001b[?25hdone\n",
            "  Getting requirements to build wheel ... \u001b[?25l\u001b[?25hdone\n",
            "    Preparing wheel metadata ... \u001b[?25l\u001b[?25hdone\n",
            "Collecting gym-notices>=0.0.4\n",
            "  Downloading gym_notices-0.0.6-py3-none-any.whl (2.7 kB)\n",
            "Requirement already satisfied: importlib-metadata>=4.10.0 in /usr/local/lib/python3.7/dist-packages (from gym) (4.11.3)\n",
            "Requirement already satisfied: numpy>=1.18.0 in /usr/local/lib/python3.7/dist-packages (from gym) (1.21.6)\n",
            "Requirement already satisfied: cloudpickle>=1.2.0 in /usr/local/lib/python3.7/dist-packages (from gym) (1.3.0)\n",
            "Requirement already satisfied: zipp>=0.5 in /usr/local/lib/python3.7/dist-packages (from importlib-metadata>=4.10.0->gym) (3.8.0)\n",
            "Requirement already satisfied: typing-extensions>=3.6.4 in /usr/local/lib/python3.7/dist-packages (from importlib-metadata>=4.10.0->gym) (4.2.0)\n",
            "Building wheels for collected packages: gym\n",
            "  Building wheel for gym (PEP 517) ... \u001b[?25l\u001b[?25hdone\n",
            "  Created wheel for gym: filename=gym-0.23.1-py3-none-any.whl size=701374 sha256=87acf6b325f0d4f4b28b0dacd8bfafbe2fa8395e18e31e9d4b16f51002dfed0f\n",
            "  Stored in directory: /root/.cache/pip/wheels/e3/33/04/6723848e46f0f1ebe794bb329b7c761c3329a0d7ffade99da7\n",
            "Successfully built gym\n",
            "Installing collected packages: gym-notices, gym\n",
            "  Attempting uninstall: gym\n",
            "    Found existing installation: gym 0.17.3\n",
            "    Uninstalling gym-0.17.3:\n",
            "      Successfully uninstalled gym-0.17.3\n",
            "Successfully installed gym-0.23.1 gym-notices-0.0.6\n"
          ]
        }
      ]
    },
    {
      "cell_type": "code",
      "source": [
        "pip install -U gym[atari,accept-rom-license]"
      ],
      "metadata": {
        "colab": {
          "base_uri": "https://localhost:8080/"
        },
        "id": "5K9rPa-vLRr0",
        "outputId": "35740bec-77ae-450a-9132-79857d360863"
      },
      "execution_count": 2,
      "outputs": [
        {
          "output_type": "stream",
          "name": "stdout",
          "text": [
            "Requirement already satisfied: gym[accept-rom-license,atari] in /usr/local/lib/python3.7/dist-packages (0.23.1)\n",
            "Requirement already satisfied: cloudpickle>=1.2.0 in /usr/local/lib/python3.7/dist-packages (from gym[accept-rom-license,atari]) (1.3.0)\n",
            "Requirement already satisfied: importlib-metadata>=4.10.0 in /usr/local/lib/python3.7/dist-packages (from gym[accept-rom-license,atari]) (4.11.3)\n",
            "Requirement already satisfied: numpy>=1.18.0 in /usr/local/lib/python3.7/dist-packages (from gym[accept-rom-license,atari]) (1.21.6)\n",
            "Requirement already satisfied: gym-notices>=0.0.4 in /usr/local/lib/python3.7/dist-packages (from gym[accept-rom-license,atari]) (0.0.6)\n",
            "Collecting autorom[accept-rom-license]~=0.4.2\n",
            "  Downloading AutoROM-0.4.2-py3-none-any.whl (16 kB)\n",
            "Collecting ale-py~=0.7.4\n",
            "  Downloading ale_py-0.7.5-cp37-cp37m-manylinux_2_17_x86_64.manylinux2014_x86_64.whl (1.6 MB)\n",
            "\u001b[K     |████████████████████████████████| 1.6 MB 5.0 MB/s \n",
            "\u001b[?25hRequirement already satisfied: importlib-resources in /usr/local/lib/python3.7/dist-packages (from ale-py~=0.7.4->gym[accept-rom-license,atari]) (5.7.1)\n",
            "Requirement already satisfied: requests in /usr/local/lib/python3.7/dist-packages (from autorom[accept-rom-license]~=0.4.2->gym[accept-rom-license,atari]) (2.23.0)\n",
            "Requirement already satisfied: tqdm in /usr/local/lib/python3.7/dist-packages (from autorom[accept-rom-license]~=0.4.2->gym[accept-rom-license,atari]) (4.64.0)\n",
            "Requirement already satisfied: click in /usr/local/lib/python3.7/dist-packages (from autorom[accept-rom-license]~=0.4.2->gym[accept-rom-license,atari]) (7.1.2)\n",
            "Collecting AutoROM.accept-rom-license\n",
            "  Downloading AutoROM.accept-rom-license-0.4.2.tar.gz (9.8 kB)\n",
            "  Installing build dependencies ... \u001b[?25l\u001b[?25hdone\n",
            "  Getting requirements to build wheel ... \u001b[?25l\u001b[?25hdone\n",
            "    Preparing wheel metadata ... \u001b[?25l\u001b[?25hdone\n",
            "Requirement already satisfied: zipp>=0.5 in /usr/local/lib/python3.7/dist-packages (from importlib-metadata>=4.10.0->gym[accept-rom-license,atari]) (3.8.0)\n",
            "Requirement already satisfied: typing-extensions>=3.6.4 in /usr/local/lib/python3.7/dist-packages (from importlib-metadata>=4.10.0->gym[accept-rom-license,atari]) (4.2.0)\n",
            "Requirement already satisfied: urllib3!=1.25.0,!=1.25.1,<1.26,>=1.21.1 in /usr/local/lib/python3.7/dist-packages (from requests->autorom[accept-rom-license]~=0.4.2->gym[accept-rom-license,atari]) (1.24.3)\n",
            "Requirement already satisfied: chardet<4,>=3.0.2 in /usr/local/lib/python3.7/dist-packages (from requests->autorom[accept-rom-license]~=0.4.2->gym[accept-rom-license,atari]) (3.0.4)\n",
            "Requirement already satisfied: idna<3,>=2.5 in /usr/local/lib/python3.7/dist-packages (from requests->autorom[accept-rom-license]~=0.4.2->gym[accept-rom-license,atari]) (2.10)\n",
            "Requirement already satisfied: certifi>=2017.4.17 in /usr/local/lib/python3.7/dist-packages (from requests->autorom[accept-rom-license]~=0.4.2->gym[accept-rom-license,atari]) (2021.10.8)\n",
            "Building wheels for collected packages: AutoROM.accept-rom-license\n",
            "  Building wheel for AutoROM.accept-rom-license (PEP 517) ... \u001b[?25l\u001b[?25hdone\n",
            "  Created wheel for AutoROM.accept-rom-license: filename=AutoROM.accept_rom_license-0.4.2-py3-none-any.whl size=441027 sha256=930dbdfcb61e38f98a5c5c7482f5c3fd933184144cc8bf3e9432f38a5872a4b6\n",
            "  Stored in directory: /root/.cache/pip/wheels/87/67/2e/6147e7912fe37f5408b80d07527dab807c1d25f5c403a9538a\n",
            "Successfully built AutoROM.accept-rom-license\n",
            "Installing collected packages: AutoROM.accept-rom-license, autorom, ale-py\n",
            "Successfully installed AutoROM.accept-rom-license-0.4.2 ale-py-0.7.5 autorom-0.4.2\n"
          ]
        }
      ]
    },
    {
      "cell_type": "code",
      "source": [
        "!AutoROM --accept-license"
      ],
      "metadata": {
        "colab": {
          "base_uri": "https://localhost:8080/"
        },
        "id": "MEfHRMmULZ9g",
        "outputId": "8dbde92a-1620-431b-a2d2-dcc8dd891943"
      },
      "execution_count": 3,
      "outputs": [
        {
          "output_type": "stream",
          "name": "stdout",
          "text": [
            "AutoROM will download the Atari 2600 ROMs.\n",
            "They will be installed to:\n",
            "\t/usr/local/lib/python3.7/dist-packages/AutoROM/roms\n",
            "\n",
            "Existing ROMs will be overwritten.\n",
            "Installed /usr/local/lib/python3.7/dist-packages/AutoROM/roms/adventure.bin\n",
            "Installed /usr/local/lib/python3.7/dist-packages/AutoROM/roms/air_raid.bin\n",
            "Installed /usr/local/lib/python3.7/dist-packages/AutoROM/roms/alien.bin\n",
            "Installed /usr/local/lib/python3.7/dist-packages/AutoROM/roms/amidar.bin\n",
            "Installed /usr/local/lib/python3.7/dist-packages/AutoROM/roms/assault.bin\n",
            "Installed /usr/local/lib/python3.7/dist-packages/AutoROM/roms/asterix.bin\n",
            "Installed /usr/local/lib/python3.7/dist-packages/AutoROM/roms/asteroids.bin\n",
            "Installed /usr/local/lib/python3.7/dist-packages/AutoROM/roms/atlantis.bin\n",
            "Installed /usr/local/lib/python3.7/dist-packages/AutoROM/roms/atlantis2.bin\n",
            "Installed /usr/local/lib/python3.7/dist-packages/AutoROM/roms/backgammon.bin\n",
            "Installed /usr/local/lib/python3.7/dist-packages/AutoROM/roms/bank_heist.bin\n",
            "Installed /usr/local/lib/python3.7/dist-packages/AutoROM/roms/basic_math.bin\n",
            "Installed /usr/local/lib/python3.7/dist-packages/AutoROM/roms/battle_zone.bin\n",
            "Installed /usr/local/lib/python3.7/dist-packages/AutoROM/roms/beam_rider.bin\n",
            "Installed /usr/local/lib/python3.7/dist-packages/AutoROM/roms/berzerk.bin\n",
            "Installed /usr/local/lib/python3.7/dist-packages/AutoROM/roms/blackjack.bin\n",
            "Installed /usr/local/lib/python3.7/dist-packages/AutoROM/roms/bowling.bin\n",
            "Installed /usr/local/lib/python3.7/dist-packages/AutoROM/roms/boxing.bin\n",
            "Installed /usr/local/lib/python3.7/dist-packages/AutoROM/roms/breakout.bin\n",
            "Installed /usr/local/lib/python3.7/dist-packages/AutoROM/roms/carnival.bin\n",
            "Installed /usr/local/lib/python3.7/dist-packages/AutoROM/roms/casino.bin\n",
            "Installed /usr/local/lib/python3.7/dist-packages/AutoROM/roms/centipede.bin\n",
            "Installed /usr/local/lib/python3.7/dist-packages/AutoROM/roms/chopper_command.bin\n",
            "Installed /usr/local/lib/python3.7/dist-packages/AutoROM/roms/combat.bin\n",
            "Installed /usr/local/lib/python3.7/dist-packages/AutoROM/roms/crazy_climber.bin\n",
            "Installed /usr/local/lib/python3.7/dist-packages/AutoROM/roms/crossbow.bin\n",
            "Installed /usr/local/lib/python3.7/dist-packages/AutoROM/roms/darkchambers.bin\n",
            "Installed /usr/local/lib/python3.7/dist-packages/AutoROM/roms/defender.bin\n",
            "Installed /usr/local/lib/python3.7/dist-packages/AutoROM/roms/demon_attack.bin\n",
            "Installed /usr/local/lib/python3.7/dist-packages/AutoROM/roms/donkey_kong.bin\n",
            "Installed /usr/local/lib/python3.7/dist-packages/AutoROM/roms/double_dunk.bin\n",
            "Installed /usr/local/lib/python3.7/dist-packages/AutoROM/roms/earthworld.bin\n",
            "Installed /usr/local/lib/python3.7/dist-packages/AutoROM/roms/elevator_action.bin\n",
            "Installed /usr/local/lib/python3.7/dist-packages/AutoROM/roms/enduro.bin\n",
            "Installed /usr/local/lib/python3.7/dist-packages/AutoROM/roms/entombed.bin\n",
            "Installed /usr/local/lib/python3.7/dist-packages/AutoROM/roms/et.bin\n",
            "Installed /usr/local/lib/python3.7/dist-packages/AutoROM/roms/fishing_derby.bin\n",
            "Installed /usr/local/lib/python3.7/dist-packages/AutoROM/roms/flag_capture.bin\n",
            "Installed /usr/local/lib/python3.7/dist-packages/AutoROM/roms/freeway.bin\n",
            "Installed /usr/local/lib/python3.7/dist-packages/AutoROM/roms/frogger.bin\n",
            "Installed /usr/local/lib/python3.7/dist-packages/AutoROM/roms/frostbite.bin\n",
            "Installed /usr/local/lib/python3.7/dist-packages/AutoROM/roms/galaxian.bin\n",
            "Installed /usr/local/lib/python3.7/dist-packages/AutoROM/roms/gopher.bin\n",
            "Installed /usr/local/lib/python3.7/dist-packages/AutoROM/roms/gravitar.bin\n",
            "Installed /usr/local/lib/python3.7/dist-packages/AutoROM/roms/hangman.bin\n",
            "Installed /usr/local/lib/python3.7/dist-packages/AutoROM/roms/haunted_house.bin\n",
            "Installed /usr/local/lib/python3.7/dist-packages/AutoROM/roms/hero.bin\n",
            "Installed /usr/local/lib/python3.7/dist-packages/AutoROM/roms/human_cannonball.bin\n",
            "Installed /usr/local/lib/python3.7/dist-packages/AutoROM/roms/ice_hockey.bin\n",
            "Installed /usr/local/lib/python3.7/dist-packages/AutoROM/roms/jamesbond.bin\n",
            "Installed /usr/local/lib/python3.7/dist-packages/AutoROM/roms/journey_escape.bin\n",
            "Installed /usr/local/lib/python3.7/dist-packages/AutoROM/roms/joust.bin\n",
            "Installed /usr/local/lib/python3.7/dist-packages/AutoROM/roms/kaboom.bin\n",
            "Installed /usr/local/lib/python3.7/dist-packages/AutoROM/roms/kangaroo.bin\n",
            "Installed /usr/local/lib/python3.7/dist-packages/AutoROM/roms/keystone_kapers.bin\n",
            "Installed /usr/local/lib/python3.7/dist-packages/AutoROM/roms/king_kong.bin\n",
            "Installed /usr/local/lib/python3.7/dist-packages/AutoROM/roms/klax.bin\n",
            "Installed /usr/local/lib/python3.7/dist-packages/AutoROM/roms/koolaid.bin\n",
            "Installed /usr/local/lib/python3.7/dist-packages/AutoROM/roms/krull.bin\n",
            "Installed /usr/local/lib/python3.7/dist-packages/AutoROM/roms/kung_fu_master.bin\n",
            "Installed /usr/local/lib/python3.7/dist-packages/AutoROM/roms/laser_gates.bin\n",
            "Installed /usr/local/lib/python3.7/dist-packages/AutoROM/roms/lost_luggage.bin\n",
            "Installed /usr/local/lib/python3.7/dist-packages/AutoROM/roms/mario_bros.bin\n",
            "Installed /usr/local/lib/python3.7/dist-packages/AutoROM/roms/maze_craze.bin\n",
            "Installed /usr/local/lib/python3.7/dist-packages/AutoROM/roms/miniature_golf.bin\n",
            "Installed /usr/local/lib/python3.7/dist-packages/AutoROM/roms/montezuma_revenge.bin\n",
            "Installed /usr/local/lib/python3.7/dist-packages/AutoROM/roms/mr_do.bin\n",
            "Installed /usr/local/lib/python3.7/dist-packages/AutoROM/roms/ms_pacman.bin\n",
            "Installed /usr/local/lib/python3.7/dist-packages/AutoROM/roms/name_this_game.bin\n",
            "Installed /usr/local/lib/python3.7/dist-packages/AutoROM/roms/othello.bin\n",
            "Installed /usr/local/lib/python3.7/dist-packages/AutoROM/roms/pacman.bin\n",
            "Installed /usr/local/lib/python3.7/dist-packages/AutoROM/roms/phoenix.bin\n",
            "Installed /usr/local/lib/python3.7/dist-packages/AutoROM/roms/pitfall.bin\n",
            "Installed /usr/local/lib/python3.7/dist-packages/AutoROM/roms/pitfall2.bin\n",
            "Installed /usr/local/lib/python3.7/dist-packages/AutoROM/roms/pong.bin\n",
            "Installed /usr/local/lib/python3.7/dist-packages/AutoROM/roms/pooyan.bin\n",
            "Installed /usr/local/lib/python3.7/dist-packages/AutoROM/roms/private_eye.bin\n",
            "Installed /usr/local/lib/python3.7/dist-packages/AutoROM/roms/qbert.bin\n",
            "Installed /usr/local/lib/python3.7/dist-packages/AutoROM/roms/riverraid.bin\n",
            "Installed /usr/local/lib/python3.7/dist-packages/AutoROM/roms/road_runner.bin\n",
            "Installed /usr/local/lib/python3.7/dist-packages/AutoROM/roms/robotank.bin\n",
            "Installed /usr/local/lib/python3.7/dist-packages/AutoROM/roms/seaquest.bin\n",
            "Installed /usr/local/lib/python3.7/dist-packages/AutoROM/roms/sir_lancelot.bin\n",
            "Installed /usr/local/lib/python3.7/dist-packages/AutoROM/roms/skiing.bin\n",
            "Installed /usr/local/lib/python3.7/dist-packages/AutoROM/roms/solaris.bin\n",
            "Installed /usr/local/lib/python3.7/dist-packages/AutoROM/roms/space_invaders.bin\n",
            "Installed /usr/local/lib/python3.7/dist-packages/AutoROM/roms/space_war.bin\n",
            "Installed /usr/local/lib/python3.7/dist-packages/AutoROM/roms/star_gunner.bin\n",
            "Installed /usr/local/lib/python3.7/dist-packages/AutoROM/roms/superman.bin\n",
            "Installed /usr/local/lib/python3.7/dist-packages/AutoROM/roms/surround.bin\n",
            "Installed /usr/local/lib/python3.7/dist-packages/AutoROM/roms/tennis.bin\n",
            "Installed /usr/local/lib/python3.7/dist-packages/AutoROM/roms/tetris.bin\n",
            "Installed /usr/local/lib/python3.7/dist-packages/AutoROM/roms/tic_tac_toe_3d.bin\n",
            "Installed /usr/local/lib/python3.7/dist-packages/AutoROM/roms/time_pilot.bin\n",
            "Installed /usr/local/lib/python3.7/dist-packages/AutoROM/roms/trondead.bin\n",
            "Installed /usr/local/lib/python3.7/dist-packages/AutoROM/roms/turmoil.bin\n",
            "Installed /usr/local/lib/python3.7/dist-packages/AutoROM/roms/tutankham.bin\n",
            "Installed /usr/local/lib/python3.7/dist-packages/AutoROM/roms/up_n_down.bin\n",
            "Installed /usr/local/lib/python3.7/dist-packages/AutoROM/roms/venture.bin\n",
            "Installed /usr/local/lib/python3.7/dist-packages/AutoROM/roms/video_checkers.bin\n",
            "Installed /usr/local/lib/python3.7/dist-packages/AutoROM/roms/video_chess.bin\n",
            "Installed /usr/local/lib/python3.7/dist-packages/AutoROM/roms/video_cube.bin\n",
            "Installed /usr/local/lib/python3.7/dist-packages/AutoROM/roms/video_pinball.bin\n",
            "Installed /usr/local/lib/python3.7/dist-packages/AutoROM/roms/warlords.bin\n",
            "Installed /usr/local/lib/python3.7/dist-packages/AutoROM/roms/wizard_of_wor.bin\n",
            "Installed /usr/local/lib/python3.7/dist-packages/AutoROM/roms/word_zapper.bin\n",
            "Installed /usr/local/lib/python3.7/dist-packages/AutoROM/roms/yars_revenge.bin\n",
            "Installed /usr/local/lib/python3.7/dist-packages/AutoROM/roms/zaxxon.bin\n",
            "Done!\n"
          ]
        }
      ]
    },
    {
      "cell_type": "code",
      "source": [
        "import gym\n",
        "import random\n",
        "\n",
        "# code for the two only actions in Pong\n",
        "UP_ACTION = 2\n",
        "DOWN_ACTION = 3\n",
        "\n",
        "env = gym.make(\"Pong-v0\")\n",
        "#env = gym.make('SpaceInvaders-v0', render_mode='human')\n",
        "# beginning of an episode\n",
        "observation = env.reset()"
      ],
      "metadata": {
        "colab": {
          "base_uri": "https://localhost:8080/"
        },
        "id": "d_smR-SjLehh",
        "outputId": "aae30e51-478c-47b1-9e02-17ef75a238b2"
      },
      "execution_count": 4,
      "outputs": [
        {
          "output_type": "stream",
          "name": "stderr",
          "text": [
            "/usr/local/lib/python3.7/dist-packages/gym/envs/registration.py:506: UserWarning: \u001b[33mWARN: The environment Pong-v0 is out of date. You should consider upgrading to version `v5` with the environment ID `ALE/Pong-v5`.\u001b[0m\n",
            "  f\"The environment {path} is out of date. You should consider \"\n"
          ]
        }
      ]
    },
    {
      "cell_type": "code",
      "source": [
        "scores=[]\n",
        "observations=[]\n",
        "for i in range(200):\n",
        "  #env.render()\n",
        "\n",
        "  action = random.randint(UP_ACTION,DOWN_ACTION)\n",
        "\n",
        "  obs, reward, done, info= env.step(action)\n",
        "  scores.append(reward)\n",
        "  observations.append(obs)\n",
        "\n",
        "  if done:\n",
        "    env.reset()\n",
        "\n"
      ],
      "metadata": {
        "id": "pqFrbT8vFomC"
      },
      "execution_count": 5,
      "outputs": []
    },
    {
      "cell_type": "code",
      "source": [
        "import torch"
      ],
      "metadata": {
        "id": "fXzXMooXG0Ht"
      },
      "execution_count": 6,
      "outputs": []
    },
    {
      "cell_type": "code",
      "source": [
        "device = torch.device(\"cuda\" if torch.cuda.is_available() else \"cpu\" )\n",
        "device"
      ],
      "metadata": {
        "colab": {
          "base_uri": "https://localhost:8080/"
        },
        "id": "CpdoS-NkN-P8",
        "outputId": "b2dc8ef5-1ea0-4567-956a-1b26d17e5cad"
      },
      "execution_count": 7,
      "outputs": [
        {
          "output_type": "execute_result",
          "data": {
            "text/plain": [
              "device(type='cuda')"
            ]
          },
          "metadata": {},
          "execution_count": 7
        }
      ]
    },
    {
      "cell_type": "code",
      "source": [
        "torch.cuda.device_count()"
      ],
      "metadata": {
        "colab": {
          "base_uri": "https://localhost:8080/"
        },
        "id": "GewjSnBCOZ-2",
        "outputId": "279c3db2-137c-46aa-c125-60de29eb4a31"
      },
      "execution_count": 8,
      "outputs": [
        {
          "output_type": "execute_result",
          "data": {
            "text/plain": [
              "1"
            ]
          },
          "metadata": {},
          "execution_count": 8
        }
      ]
    },
    {
      "cell_type": "markdown",
      "source": [
        "#PONG with DQN"
      ],
      "metadata": {
        "id": "JtLFhj_gTntw"
      }
    },
    {
      "cell_type": "markdown",
      "source": [
        "Import Libraries"
      ],
      "metadata": {
        "id": "nTjMByxoTkPG"
      }
    },
    {
      "cell_type": "code",
      "source": [
        "import time\n",
        "import gym\n",
        "import random\n",
        "import torch\n",
        "import numpy as np\n",
        "from collections import deque\n",
        "import matplotlib.pyplot as plt\n",
        "import math"
      ],
      "metadata": {
        "id": "NX42cZEHOqLh"
      },
      "execution_count": 9,
      "outputs": []
    },
    {
      "cell_type": "markdown",
      "source": [
        "create the environment\n"
      ],
      "metadata": {
        "id": "PjHdCydyTmir"
      }
    },
    {
      "cell_type": "markdown",
      "source": [
        "![image_2022-05-19_105431901.png](data:image/png;base64,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)"
      ],
      "metadata": {
        "id": "sem5PF5cTzBv"
      }
    },
    {
      "cell_type": "code",
      "source": [
        "env = gym.make('Pong-v0')\n",
        "env.seed(0)"
      ],
      "metadata": {
        "colab": {
          "base_uri": "https://localhost:8080/"
        },
        "id": "7rgXfmrWOk85",
        "outputId": "d6a56275-b747-4053-e931-59ad71c03b6d"
      },
      "execution_count": 10,
      "outputs": [
        {
          "output_type": "execute_result",
          "data": {
            "text/plain": [
              "(2968811710, 3677149159)"
            ]
          },
          "metadata": {},
          "execution_count": 10
        }
      ]
    },
    {
      "cell_type": "code",
      "source": [
        "# if gpu is to be used\n",
        "device = torch.device(\"cuda\" if torch.cuda.is_available() else \"cpu\")\n",
        "print(\"Device: \", device)"
      ],
      "metadata": {
        "colab": {
          "base_uri": "https://localhost:8080/"
        },
        "id": "eIC88Vc-On03",
        "outputId": "676c0557-3331-4072-ad23-a1f29da0292a"
      },
      "execution_count": 11,
      "outputs": [
        {
          "output_type": "stream",
          "name": "stdout",
          "text": [
            "Device:  cuda\n"
          ]
        }
      ]
    },
    {
      "cell_type": "markdown",
      "source": [
        "View our environment"
      ],
      "metadata": {
        "id": "7IspYWo6T_LQ"
      }
    },
    {
      "cell_type": "code",
      "source": [
        "print(\"The size of frame is: \", env.observation_space.shape)\n",
        "print(\"No. of Actions: \", env.action_space.n)\n",
        "env.reset()\n",
        "plt.figure()\n",
        "plt.imshow(env.reset())\n",
        "plt.title('Original Frame')\n",
        "plt.show()"
      ],
      "metadata": {
        "colab": {
          "base_uri": "https://localhost:8080/",
          "height": 316
        },
        "id": "LxAOY7cCQGLA",
        "outputId": "6f532085-c197-4603-ee6c-376667c911c3"
      },
      "execution_count": 12,
      "outputs": [
        {
          "output_type": "stream",
          "name": "stdout",
          "text": [
            "The size of frame is:  (210, 160, 3)\n",
            "No. of Actions:  6\n"
          ]
        },
        {
          "output_type": "display_data",
          "data": {
            "text/plain": [
              "<Figure size 432x288 with 1 Axes>"
            ],
            "image/png": "[encoded data removed]"
          },
          "metadata": {
            "needs_background": "light"
          }
        }
      ]
    },
    {
      "cell_type": "markdown",
      "source": [
        "Palying PONG with random policy"
      ],
      "metadata": {
        "id": "p57CjWdzUJUk"
      }
    },
    {
      "cell_type": "code",
      "source": [
        "def random_play():\n",
        "    score = 0\n",
        "    env.reset()\n",
        "    while True:\n",
        "        #env.render()\n",
        "        #the following command randomely samples an element from this space\n",
        "        #if can either be unifrom or non-uniform based on boundeness of space\n",
        "        action = env.action_space.sample()\n",
        "        #apply the chosen action to our env\n",
        "        state, reward, done, _ = env.step(action)\n",
        "        score += reward\n",
        "        if done:\n",
        "            env.close()\n",
        "            print(\"Your Score at end of game is: \", score)\n",
        "            break\n",
        "random_play()"
      ],
      "metadata": {
        "colab": {
          "base_uri": "https://localhost:8080/"
        },
        "id": "XDA27kEYQPrp",
        "outputId": "3537d9ba-3659-4423-ed4a-7103e2f323eb"
      },
      "execution_count": 13,
      "outputs": [
        {
          "output_type": "stream",
          "name": "stdout",
          "text": [
            "Your Score at end of game is:  -21.0\n"
          ]
        }
      ]
    },
    {
      "cell_type": "code",
      "source": [
        "env.reset()\n",
        "plt.figure()\n",
        "plt.imshow(preprocess_frame(env.reset(), (30, -4, -12, 4), 84), cmap=\"gray\")\n",
        "plt.title('Pre Processed image')\n",
        "plt.show()"
      ],
      "metadata": {
        "colab": {
          "base_uri": "https://localhost:8080/",
          "height": 281
        },
        "id": "xl27r8-oQhoB",
        "outputId": "49242edf-f792-484e-eb02-a174449f7234"
      },
      "execution_count": 17,
      "outputs": [
        {
          "output_type": "display_data",
          "data": {
            "text/plain": [
              "<Figure size 432x288 with 1 Axes>"
            ],
            "image/png": "[encoded data removed]"
          },
          "metadata": {
            "needs_background": "light"
          }
        }
      ]
    },
    {
      "cell_type": "markdown",
      "source": [
        "Stacking frames"
      ],
      "metadata": {
        "id": "IiMBMf5tVNsa"
      }
    },
    {
      "cell_type": "code",
      "source": [
        "def stack_frames(frames, state, is_new=False):\n",
        "    frame = preprocess_frame(state, (30, -4, -12, 4), 84)\n",
        "    frames = stack_frame(frames, frame, is_new)\n",
        "\n",
        "    return frames"
      ],
      "metadata": {
        "id": "OhefTKqQVMob"
      },
      "execution_count": 16,
      "outputs": []
    },
    {
      "cell_type": "markdown",
      "source": [
        "Preprocessing the game display the frame"
      ],
      "metadata": {
        "id": "rhOJN_LpTX3K"
      }
    },
    {
      "cell_type": "code",
      "source": [
        "import numpy as np\n",
        "import cv2\n",
        "\n",
        "def preprocess_frame(screen, exclude, output):\n",
        "    \"\"\"Preprocess Image.\n",
        "        \n",
        "        Params\n",
        "        ======\n",
        "            screen (array): RGB Image\n",
        "            exclude (tuple): Section to be croped (UP, RIGHT, DOWN, LEFT)\n",
        "            output (int): Size of output image\n",
        "        \"\"\"\n",
        "    # TConver image to gray scale\n",
        "    screen = cv2.cvtColor(screen, cv2.COLOR_RGB2GRAY)\n",
        "    \n",
        "    #Crop screen[Up: Down, Left: right] \n",
        "    screen = screen[exclude[0]:exclude[2], exclude[3]:exclude[1]]\n",
        "    \n",
        "    # Convert to float, and normalized\n",
        "    screen = np.ascontiguousarray(screen, dtype=np.float32) / 255\n",
        "    \n",
        "    # Resize image to 84 * 84\n",
        "    screen = cv2.resize(screen, (output, output), interpolation = cv2.INTER_AREA)\n",
        "    return screen\n",
        "\n",
        "def stack_frame(stacked_frames, frame, is_new):\n",
        "    \"\"\"Stacking Frames.\n",
        "        \n",
        "        Params\n",
        "        ======\n",
        "            stacked_frames (array): Four Channel Stacked Frame\n",
        "            frame: Preprocessed Frame to be added\n",
        "            is_new: Is the state First\n",
        "        \"\"\"\n",
        "    if is_new:\n",
        "        stacked_frames = np.stack(arrays=[frame, frame, frame, frame])\n",
        "        stacked_frames = stacked_frames\n",
        "    else:\n",
        "        stacked_frames[0] = stacked_frames[1]\n",
        "        stacked_frames[1] = stacked_frames[2]\n",
        "        stacked_frames[2] = stacked_frames[3]\n",
        "        stacked_frames[3] = frame\n",
        "    \n",
        "    return stacked_frames\n"
      ],
      "metadata": {
        "id": "Ylq6iMU-SdZb"
      },
      "execution_count": 15,
      "outputs": []
    },
    {
      "cell_type": "markdown",
      "source": [
        "creating the agent"
      ],
      "metadata": {
        "id": "BIcFmCD-XAFp"
      }
    },
    {
      "cell_type": "markdown",
      "source": [
        "The class DQNCNN"
      ],
      "metadata": {
        "id": "S7zvQwRTYR2o"
      }
    },
    {
      "cell_type": "code",
      "source": [
        "import torch\n",
        "import torch.nn as nn\n",
        "import torch.autograd as autograd \n",
        "import torch.nn.functional as F\n",
        "\n",
        "class DQNCnn(nn.Module):\n",
        "    def __init__(self, input_shape, num_actions):\n",
        "        super(DQNCnn, self).__init__()\n",
        "        self.input_shape = input_shape\n",
        "        self.num_actions = num_actions\n",
        "        \n",
        "        self.features = nn.Sequential(\n",
        "            nn.Conv2d(input_shape[0], 32, kernel_size=8, stride=4),\n",
        "            nn.ReLU(),\n",
        "            nn.Conv2d(32, 64, kernel_size=4, stride=2),\n",
        "            nn.ReLU(),\n",
        "            nn.Conv2d(64, 64, kernel_size=3, stride=1),\n",
        "            nn.ReLU()\n",
        "        )\n",
        "        \n",
        "        self.fc = nn.Sequential(\n",
        "            nn.Linear(self.feature_size(), 512),\n",
        "            nn.ReLU(),\n",
        "            nn.Linear(512, self.num_actions)\n",
        "        )\n",
        "        \n",
        "    def forward(self, x):\n",
        "        x = self.features(x)\n",
        "        x = x.view(x.size(0), -1)\n",
        "        x = self.fc(x)\n",
        "        return x\n",
        "    \n",
        "    def feature_size(self):\n",
        "        return self.features(autograd.Variable(torch.zeros(1, *self.input_shape))).view(1, -1).size(1)"
      ],
      "metadata": {
        "id": "Njwvgc_rYUUj"
      },
      "execution_count": 18,
      "outputs": []
    },
    {
      "cell_type": "markdown",
      "source": [
        "The REPLAY Buffer"
      ],
      "metadata": {
        "id": "nBjsW17aXmL8"
      }
    },
    {
      "cell_type": "code",
      "source": [
        "import numpy as np\n",
        "import random\n",
        "from collections import namedtuple, deque\n",
        "import torch\n",
        "\n",
        "class ReplayBuffer:\n",
        "    \"\"\"Fixed-size buffer to store experience tuples.\"\"\"\n",
        "\n",
        "    def __init__(self, buffer_size, batch_size, seed, device):\n",
        "        \"\"\"Initialize a ReplayBuffer object.\n",
        "        Params\n",
        "        ======\n",
        "            buffer_size (int): maximum size of buffer\n",
        "            batch_size (int): size of each training batch\n",
        "            seed (int): random seed\n",
        "            device (string): GPU or CPU\n",
        "        \"\"\"\n",
        "\n",
        "        self.memory = deque(maxlen=buffer_size)  \n",
        "        self.batch_size = batch_size\n",
        "        self.experience = namedtuple(\"Experience\", field_names=[\"state\", \"action\", \"reward\", \"next_state\", \"done\"])\n",
        "        self.seed = random.seed(seed)\n",
        "        self.device = device\n",
        "    \n",
        "    def add(self, state, action, reward, next_state, done):\n",
        "        \"\"\"Add a new experience to memory.\"\"\"\n",
        "        e = self.experience(state, action, reward, next_state, done)\n",
        "        self.memory.append(e)\n",
        "    \n",
        "    def sample(self):\n",
        "        \"\"\"Randomly sample a batch of experiences from memory.\"\"\"\n",
        "        experiences = random.sample(self.memory, k=self.batch_size)\n",
        "\n",
        "        states = torch.from_numpy(np.array([e.state for e in experiences if e is not None])).float().to(self.device)\n",
        "        actions = torch.from_numpy(np.array([e.action for e in experiences if e is not None])).long().to(self.device)\n",
        "        rewards = torch.from_numpy(np.array([e.reward for e in experiences if e is not None])).float().to(self.device)\n",
        "        next_states = torch.from_numpy(np.array([e.next_state for e in experiences if e is not None])).float().to(self.device)\n",
        "        dones = torch.from_numpy(np.array([e.done for e in experiences if e is not None]).astype(np.uint8)).float().to(self.device)\n",
        "  \n",
        "        return (states, actions, rewards, next_states, dones)\n",
        "\n",
        "    def __len__(self):\n",
        "        \"\"\"Return the current size of internal memory.\"\"\"\n",
        "        return len(self.memory)"
      ],
      "metadata": {
        "id": "gr8XXMdwXpBa"
      },
      "execution_count": 19,
      "outputs": []
    },
    {
      "cell_type": "markdown",
      "source": [
        "The class DQN Agent"
      ],
      "metadata": {
        "id": "CJZn2RjrXTqr"
      }
    },
    {
      "cell_type": "code",
      "source": [
        "import numpy as np\n",
        "import torch\n",
        "import torch.nn.functional as F\n",
        "import torch.optim as optim\n",
        "import random\n",
        "#from ..utils.replay_buffer import ReplayBuffer\n",
        "\n",
        "class DQNAgent():\n",
        "    def __init__(self, input_shape, action_size, seed, device, buffer_size, batch_size, gamma, lr, tau, update_every, replay_after, model):\n",
        "        \"\"\"Initialize an Agent object.\n",
        "        \n",
        "        Params\n",
        "        ======\n",
        "            input_shape (tuple): dimension of each state (C, H, W)\n",
        "            action_size (int): dimension of each action\n",
        "            seed (int): random seed\n",
        "            device(string): Use Gpu or CPU\n",
        "            buffer_size (int): replay buffer size\n",
        "            batch_size (int):  minibatch size\n",
        "            gamma (float): discount factor\n",
        "            lr (float): learning rate \n",
        "            update_every (int): how often to update the network\n",
        "            replay_after (int): After which replay to be started\n",
        "            model(Model): Pytorch Model\n",
        "        \"\"\"\n",
        "        self.input_shape = input_shape\n",
        "        self.action_size = action_size\n",
        "        self.seed = random.seed(seed)\n",
        "        self.device = device\n",
        "        self.buffer_size = buffer_size\n",
        "        self.batch_size = batch_size\n",
        "        self.gamma = gamma\n",
        "        self.lr = lr\n",
        "        self.update_every = update_every\n",
        "        self.replay_after = replay_after\n",
        "        self.DQN = model\n",
        "        self.tau = tau\n",
        "\n",
        "        \n",
        "        # Q-Network\n",
        "        self.policy_net = self.DQN(input_shape, action_size).to(self.device)\n",
        "        self.target_net = self.DQN(input_shape, action_size).to(self.device)\n",
        "        self.optimizer = optim.Adam(self.policy_net.parameters(), lr=self.lr)\n",
        "        \n",
        "        # Replay memory\n",
        "        self.memory = ReplayBuffer(self.buffer_size, self.batch_size, self.seed, self.device)\n",
        "        \n",
        "        self.t_step = 0\n",
        "\n",
        "    \n",
        "    def step(self, state, action, reward, next_state, done):\n",
        "        # Save experience in replay memory\n",
        "        self.memory.add(state, action, reward, next_state, done)\n",
        "        \n",
        "        # Learn every UPDATE_EVERY time steps.\n",
        "        self.t_step = (self.t_step + 1) % self.update_every\n",
        "\n",
        "        if self.t_step == 0:\n",
        "            # If enough samples are available in memory, get random subset and learn\n",
        "            if len(self.memory) > self.replay_after:\n",
        "                experiences = self.memory.sample()\n",
        "                self.learn(experiences)\n",
        "                \n",
        "    def act(self, state, eps=0.):\n",
        "        \"\"\"Returns actions for given state as per current policy.\"\"\"\n",
        "        \n",
        "        state = torch.from_numpy(state).unsqueeze(0).to(self.device)\n",
        "        self.policy_net.eval()\n",
        "        with torch.no_grad():\n",
        "            action_values = self.policy_net(state)\n",
        "        self.policy_net.train()\n",
        "        \n",
        "        # Epsilon-greedy action selection\n",
        "        if random.random() > eps:\n",
        "            return np.argmax(action_values.cpu().data.numpy())\n",
        "        else:\n",
        "            return random.choice(np.arange(self.action_size))\n",
        "        \n",
        "    def learn(self, experiences):\n",
        "        states, actions, rewards, next_states, dones = experiences\n",
        "\n",
        "        # Get expected Q values from policy model\n",
        "        Q_expected_current = self.policy_net(states)\n",
        "        Q_expected = Q_expected_current.gather(1, actions.unsqueeze(1)).squeeze(1)\n",
        "\n",
        "        # Get max predicted Q values (for next states) from target model\n",
        "        Q_targets_next = self.target_net(next_states).detach().max(1)[0]\n",
        "        \n",
        "        # Compute Q targets for current states \n",
        "        Q_targets = rewards + (self.gamma * Q_targets_next * (1 - dones))\n",
        "        \n",
        "        # Compute loss\n",
        "        loss = F.mse_loss(Q_expected, Q_targets)\n",
        "\n",
        "        # Minimize the loss\n",
        "        self.optimizer.zero_grad()\n",
        "        loss.backward()\n",
        "        self.optimizer.step()\n",
        "\n",
        "        self.soft_update(self.policy_net, self.target_net, self.tau)\n",
        "\n",
        "    \n",
        "    # θ'=θ×τ+θ'×(1−τ)\n",
        "    def soft_update(self, policy_model, target_model, tau):\n",
        "        for target_param, policy_param in zip(target_model.parameters(), policy_model.parameters()):\n",
        "            target_param.data.copy_(tau*policy_param.data + (1.0-tau)*target_param.data)"
      ],
      "metadata": {
        "id": "tjp0e2lBXVvs"
      },
      "execution_count": 20,
      "outputs": []
    },
    {
      "cell_type": "markdown",
      "source": [
        "Now the AGENT"
      ],
      "metadata": {
        "id": "rcncpHwSYeFq"
      }
    },
    {
      "cell_type": "code",
      "source": [
        "INPUT_SHAPE = (4, 84, 84)\n",
        "ACTION_SIZE = env.action_space.n\n",
        "SEED = 0\n",
        "GAMMA = 0.99           # discount factor\n",
        "BUFFER_SIZE = 100000   # replay buffer size\n",
        "BATCH_SIZE = 64        # Update batch size\n",
        "LR = 0.0001            # learning rate \n",
        "TAU = 1e-3             # for soft update of target parameters\n",
        "UPDATE_EVERY = 1       # how often to update the network\n",
        "UPDATE_TARGET = 10000  # After which thershold replay to be started \n",
        "EPS_START = 0.99       # starting value of epsilon\n",
        "EPS_END = 0.01         # Ending value of epsilon\n",
        "EPS_DECAY = 100         # Rate by which epsilon to be decayed\n",
        "\n",
        "agent = DQNAgent(INPUT_SHAPE, ACTION_SIZE, SEED, device, BUFFER_SIZE, BATCH_SIZE, GAMMA, LR, TAU, UPDATE_EVERY, UPDATE_TARGET, DQNCnn)"
      ],
      "metadata": {
        "id": "tD1jeE5mTFOw"
      },
      "execution_count": 21,
      "outputs": []
    },
    {
      "cell_type": "markdown",
      "source": [
        "Watch untrained Agent"
      ],
      "metadata": {
        "id": "NmYDy4HqYwdE"
      }
    },
    {
      "cell_type": "code",
      "source": [
        "# watch an untrained agent\n",
        "score=0\n",
        "state = stack_frames(None, env.reset(), True) \n",
        "for j in range(200):\n",
        "    #env.render()\n",
        "    action = agent.act(state)\n",
        "    next_state, reward, done, _ = env.step(action)\n",
        "    score+=reward\n",
        "    state = stack_frames(state, next_state, False)\n",
        "    if done:\n",
        "        break \n",
        "        \n",
        "env.close()"
      ],
      "metadata": {
        "id": "eZu6L71oYhzT"
      },
      "execution_count": 22,
      "outputs": []
    },
    {
      "cell_type": "code",
      "source": [
        "score"
      ],
      "metadata": {
        "colab": {
          "base_uri": "https://localhost:8080/"
        },
        "id": "B1fPsQTMYztF",
        "outputId": "14402d43-f719-4961-ca78-3f8eb23dcb39"
      },
      "execution_count": 23,
      "outputs": [
        {
          "output_type": "execute_result",
          "data": {
            "text/plain": [
              "0.0"
            ]
          },
          "metadata": {},
          "execution_count": 23
        }
      ]
    },
    {
      "cell_type": "markdown",
      "source": [
        "Loading Agent"
      ],
      "metadata": {
        "id": "LywAIGG6ZEep"
      }
    },
    {
      "cell_type": "code",
      "source": [
        "start_epoch = 0\n",
        "scores = []\n",
        "scores_window = deque(maxlen=20)"
      ],
      "metadata": {
        "id": "vp80lhmoY8S3"
      },
      "execution_count": 24,
      "outputs": []
    },
    {
      "cell_type": "markdown",
      "source": [
        "Train Agent with DQN"
      ],
      "metadata": {
        "id": "KuONW55AZJ1j"
      }
    },
    {
      "cell_type": "code",
      "source": [
        "epsilon_by_epsiode = lambda frame_idx: EPS_END + (EPS_START - EPS_END) * math.exp(-1. * frame_idx /EPS_DECAY)\n",
        "\n",
        "plt.plot([epsilon_by_epsiode(i) for i in range(1000)])"
      ],
      "metadata": {
        "colab": {
          "base_uri": "https://localhost:8080/",
          "height": 282
        },
        "id": "P4QTLDiyZHqG",
        "outputId": "8a8beaf7-561c-443e-dba7-a2f0202b4cca"
      },
      "execution_count": 25,
      "outputs": [
        {
          "output_type": "execute_result",
          "data": {
            "text/plain": [
              "[<matplotlib.lines.Line2D at 0x7fa36f5a7f50>]"
            ]
          },
          "metadata": {},
          "execution_count": 25
        },
        {
          "output_type": "display_data",
          "data": {
            "text/plain": [
              "<Figure size 432x288 with 1 Axes>"
            ],
            "image/png": "[encoded data removed]"
          },
          "metadata": {
            "needs_background": "light"
          }
        }
      ]
    },
    {
      "cell_type": "code",
      "source": [
        "#the training funcdtion\n",
        "def train(n_episodes=1000):\n",
        "    \"\"\"\n",
        "    Params\n",
        "    ======\n",
        "        n_episodes (int): maximum number of training episodes\n",
        "    \"\"\"\n",
        "    for i_episode in range(start_epoch + 1, n_episodes+1):\n",
        "        state = stack_frames(None, env.reset(), True)\n",
        "        score = 0\n",
        "        eps = epsilon_by_epsiode(i_episode)\n",
        "        while True:\n",
        "            action = agent.act(state, eps)\n",
        "            next_state, reward, done, info = env.step(action)\n",
        "            score += reward\n",
        "            next_state = stack_frames(state, next_state, False)\n",
        "            agent.step(state, action, reward, next_state, done)\n",
        "            state = next_state\n",
        "            if done:\n",
        "                break\n",
        "        scores_window.append(score)       # save most recent score\n",
        "        scores.append(score)              # save most recent score\n",
        "        print('\\rEpisode {}\\tAverage Score: {:.2f}'.format(i_episode, np.mean(scores_window)), end=\"\")\n",
        "        \n",
        "        if i_episode % 100 == 0:\n",
        "            print('\\rEpisode {}\\tAverage Score: {:.2f}'.format(i_episode, np.mean(scores_window)))\n",
        "            fig = plt.figure()\n",
        "            ax = fig.add_subplot(111)\n",
        "            plt.plot(np.arange(len(scores)), scores)\n",
        "            plt.ylabel('Score')\n",
        "            plt.xlabel('Episode #')\n",
        "            plt.show()\n",
        "    \n",
        "    return scores"
      ],
      "metadata": {
        "id": "zk0YqQjjZOCj"
      },
      "execution_count": 26,
      "outputs": []
    },
    {
      "cell_type": "code",
      "source": [
        "scores = train(1000)\n"
      ],
      "metadata": {
        "colab": {
          "base_uri": "https://localhost:8080/"
        },
        "id": "-XxIarYIZXqS",
        "outputId": "28ffd75f-1c85-496f-e856-1bf36760b72c"
      },
      "execution_count": null,
      "outputs": [
        {
          "output_type": "stream",
          "name": "stdout",
          "text": [
            "Episode 3\tAverage Score: -20.67"
          ]
        }
      ]
    },
    {
      "cell_type": "markdown",
      "source": [
        "Watch the smart agent play"
      ],
      "metadata": {
        "id": "dpKAvFJoZwo4"
      }
    },
    {
      "cell_type": "code",
      "source": [
        "score = 0\n",
        "state = stack_frames(None, env.reset(), True)\n",
        "while True:\n",
        "    env.render()\n",
        "    action = agent.act(state)\n",
        "    next_state, reward, done, _ = env.step(action)\n",
        "    score += reward\n",
        "    state = stack_frames(state, next_state, False)\n",
        "    if done:\n",
        "        print(\"You Final score is:\", score)\n",
        "        break \n",
        "env.close()"
      ],
      "metadata": {
        "id": "IQtt49xUZcJL"
      },
      "execution_count": null,
      "outputs": []
    },
    {
      "cell_type": "code",
      "source": [
        ""
      ],
      "metadata": {
        "id": "LPJTFTH5kI_x"
      },
      "execution_count": null,
      "outputs": []
    }
  ]
}